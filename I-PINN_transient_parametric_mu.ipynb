{
 "cells": [
  {
   "cell_type": "markdown",
   "metadata": {},
   "source": [
    "This notebook demonstrates the capability of I-PINN for the problem of a sphere inside a unit cube. The sphere is characterized by a constant permeability of 1, while the surrounding cube features a variable permeability denoted by μ. \n",
    "The problem is a 5D problem (3D, transient, and parametric)\n",
    "By leveraging the capabilities of I-PINNs, this project aims to accurately model and predict the electromagnetic behavior with no external data."
   ]
  },
  {
   "cell_type": "code",
   "execution_count": 1,
   "metadata": {
    "executionInfo": {
     "elapsed": 3730,
     "status": "ok",
     "timestamp": 1708358196431,
     "user": {
      "displayName": "Michel Nohra",
      "userId": "12798475948195788062"
     },
     "user_tz": 300
    },
    "id": "NhdnYeWY0KHD"
   },
   "outputs": [],
   "source": [
    "import numpy as np\n",
    "import torch\n",
    "import torch.autograd as autograd         # computation graph\n",
    "from torch import Tensor                  # tensor node in the computation graph\n",
    "import torch.nn as nn                     # neural networks\n",
    "import torch.nn.functional as F           # layers, activations and more\n",
    "import torch.optim as optim               # optimizers e.g. gradient descent, ADAM, etc.\n",
    "from torch.jit import script, trace\n",
    "import matplotlib.pyplot as plt"
   ]
  },
  {
   "cell_type": "markdown",
   "metadata": {},
   "source": [
    "Below are necessary functions to calculate the residuals of the equations. The equations used are the first-order Maxwell's equations. The permeability in the domain is expressed as \n",
    " $$\\mu = x_4 \\cdot \\hat{H} + 1$$\n",
    " where\n",
    "- $x_4$ is a parameter.\n",
    "- $\\hat{H}$ denotes the Heaviside function on the interface."
   ]
  },
  {
   "cell_type": "code",
   "execution_count": 3,
   "metadata": {},
   "outputs": [],
   "source": [
    "def get_derivH(H,Y):\n",
    "\n",
    "    gH=torch.autograd.grad(H,Y,grad_outputs=torch.ones_like(H),retain_graph=True,create_graph=True, allow_unused=True)[0]\n",
    "    H_x=gH[:,0:1]\n",
    "    H_y=gH[:,1:2]\n",
    "    H_z=gH[:,2:3]\n",
    "    H_t=gH[:,3:4]\n",
    "\n",
    "    return H_x , H_y, H_z, H_t\n",
    "\n",
    "def T_curl(Hx,Hy,Hz,Y):\n",
    "    Hx_x , Hx_y, Hx_z, Hx_t = get_derivH(Hx,Y)\n",
    "    Hy_x , Hy_y, Hy_z, Hy_t = get_derivH(Hy,Y)\n",
    "    Hz_x , Hz_y, Hz_z, Hz_t = get_derivH(Hz,Y)\n",
    "\n",
    "    #E=curl(V[0-->2])\n",
    "    c1=(Hz_y-Hy_z)\n",
    "    c2=(Hx_z-Hz_x)\n",
    "    c3=(Hy_x-Hx_y)\n",
    "    div=Hx_x + Hy_y + Hz_z\n",
    "    return c1,c2,c3, Hx_t,Hy_t,Hz_t ,div\n",
    "\n",
    "def equa_F(Hx,Hy,Hz,Ex,Ey,Ez,Y,rho,mu,Fx,Fy,Fz, tag):\n",
    "\n",
    "    k=Y[:,4:5]\n",
    "\n",
    "    r=torch.sqrt((0.5-Y[:,0:1])**2 + (0.5-Y[:,1:2])**2 + (0.5-Y[:,2:3])**2 )\n",
    "    mu=k*torch.sigmoid(100*(r-0.25)) + 1\n",
    "\n",
    "    rho=1\n",
    "\n",
    "    cH1,cH2,cH3, Hx_t, Hy_t, Hz_t,div = T_curl(Hx,Hy,Hz,Y)\n",
    "    cE1,cE2,cE3, Ex_t, Ey_t, Ez_t,divE = T_curl(Ex,Ey,Ez,Y)\n",
    "\n",
    "    resx=mu*Hx_t + 1*cE1 \n",
    "    resy=mu*Hy_t + 1*cE2 \n",
    "    resz=mu*Hz_t + 1*cE3 \n",
    "\n",
    "    res2x=Ex*1/rho-cH1\n",
    "    res2y=Ey*1/rho-cH2\n",
    "    res2z=Ez*1/rho-cH3 \n",
    "\n",
    "    return resx,resy,resz, res2x,res2y,res2z,div,divE\n",
    "\n"
   ]
  },
  {
   "cell_type": "markdown",
   "metadata": {},
   "source": [
    "Below is the I-PINN neural network"
   ]
  },
  {
   "cell_type": "code",
   "execution_count": 5,
   "metadata": {
    "executionInfo": {
     "elapsed": 831,
     "status": "ok",
     "timestamp": 1708365039812,
     "user": {
      "displayName": "Michel Nohra",
      "userId": "12798475948195788062"
     },
     "user_tz": 300
    },
    "id": "empNg_6a0VuF"
   },
   "outputs": [],
   "source": [
    "\n",
    "#weigh initialization\n",
    "def init_weights(m):\n",
    "    if isinstance(m, nn.Linear):\n",
    "        torch.nn.init.xavier_uniform_(m.weight)\n",
    "        #m.bias.data.fill_(0.01)\n",
    "device = torch.device('cuda' if torch.cuda.is_available() else 'cpu')\n",
    "\n",
    "#neural network architecture\n",
    "class NetF(nn.Module):\n",
    "    def __init__(self):\n",
    "        super().__init__()\n",
    "        n=50\n",
    "\n",
    "        self.base = nn.Sequential(\n",
    "          nn.Linear(11,n),\n",
    "          nn.Tanh(),\n",
    "          nn.Linear(n,n),\n",
    "          nn.Tanh(),\n",
    "          nn.Linear(n,n),\n",
    "          nn.Tanh(),\n",
    "          nn.Linear(n,n),\n",
    "\n",
    "        )\n",
    "        self.head1 =  nn.Sequential(\n",
    "          nn.Tanh(),\n",
    "          nn.Linear(n,n),\n",
    "          nn.Tanh(),\n",
    "          nn.Linear(n,1)\n",
    "        )\n",
    "\n",
    "        self.head2 =  nn.Sequential(\n",
    "          nn.Tanh(),\n",
    "          nn.Linear(n,n),\n",
    "          nn.Tanh(),\n",
    "          nn.Linear(n,1)\n",
    "        )\n",
    "\n",
    "        self.head3 =  nn.Sequential(\n",
    "          nn.Tanh(),\n",
    "          nn.Linear(n,n),\n",
    "          nn.Tanh(),\n",
    "          nn.Linear(n,1)\n",
    "        )\n",
    "\n",
    "        self.head4 =  nn.Sequential(\n",
    "          nn.Tanh(),\n",
    "          nn.Linear(n,n),\n",
    "          nn.Tanh(),\n",
    "          nn.Linear(n,1)\n",
    "        )\n",
    "        self.head5 =  nn.Sequential(\n",
    "          nn.Tanh(),\n",
    "          nn.Linear(n,n),\n",
    "          nn.Tanh(),\n",
    "          nn.Linear(n,1)\n",
    "        )\n",
    "        self.head6 =  nn.Sequential(\n",
    "          nn.Tanh(),\n",
    "          nn.Linear(n,n),\n",
    "          nn.Tanh(),\n",
    "          nn.Linear(n,1)\n",
    "        )\n",
    "    def forward(self, x):\n",
    "\n",
    "        #in I-PINN, we augment the input vector with function containing high frequencies at the interface,\n",
    "        # and with a vector field normal to the interface\n",
    "        \n",
    "        r=torch.sqrt((0.5-x[:,0:1])**2 + (0.5-x[:,1:2])**2 + (0.5-x[:,2:3])**2 ) \n",
    "        \n",
    "        #the high-frequency functions\n",
    "        \n",
    "        mu=torch.sigmoid(50*(0.2-r))\n",
    "        mu1=torch.sigmoid(50*(0.2-r))\n",
    "        mu2=torch.sigmoid(100*(0.2-r))\n",
    "        \n",
    "        #the normal vector field\n",
    "        mux,muy,muz,mut=get_derivH(mu,x)\n",
    "        mod= 50*0.25\n",
    "        \n",
    "        #the augmented input vector\n",
    "        Xa=torch.column_stack((x,mu,mux/mod,muy/mod,muz/mod ,mu1,mu2))\n",
    "        \n",
    "        #Forward pass\n",
    "        x1 = self.base(Xa)\n",
    "        x2=self.head1(x1) \n",
    "        x3=self.head2(x1) \n",
    "        x4=self.head3(x1) \n",
    "        x5=self.head4(x1) \n",
    "        x6=self.head5(x1) \n",
    "        x7=self.head6(x1) \n",
    "\n",
    "        return x2 ,x3 ,x4 ,x5,x6 ,x7\n",
    "\n",
    "\n",
    "netF = NetF()\n",
    "netF.apply(init_weights)\n",
    "\n",
    "device = torch.device('cuda' if torch.cuda.is_available() else 'cpu')\n",
    "device\n",
    "netF=netF.to(device)"
   ]
  },
  {
   "cell_type": "markdown",
   "metadata": {},
   "source": [
    "The function below is used to strongly impose the boundary conditions. We impose a dirichlet boundary conditions $H = [0,0,t]$ on the 4 sides of the cube, and $E=[0,0,0]$ on the top and bottom of the cube. The initial condition in zero."
   ]
  },
  {
   "cell_type": "code",
   "execution_count": 20,
   "metadata": {
    "colab": {
     "base_uri": "https://localhost:8080/"
    },
    "executionInfo": {
     "elapsed": 4,
     "status": "ok",
     "timestamp": 1708365040572,
     "user": {
      "displayName": "Michel Nohra",
      "userId": "12798475948195788062"
     },
     "user_tz": 300
    },
    "id": "BZ2hbizw0v30",
    "outputId": "b84f532d-8200-4df7-d03c-f3c2b26c7cd1"
   },
   "outputs": [],
   "source": [
    "def for_pass_F(X):\n",
    "    Bx,By,Bz,Dx,Dy,Dz=netF(X)\n",
    "    w1=X[:,0:1]\n",
    "    w2=X[:,1:2]\n",
    "    w3=1-w1\n",
    "    w4=1-w2\n",
    "    hb = X[:,2:3]\n",
    "    ht = 1-hb\n",
    "    t=X[:,3:4]\n",
    "\n",
    "    d1= 1-torch.exp(-w1*20)\n",
    "    d2= 1-torch.exp(-w2*20)\n",
    "    d3= 1-torch.exp(-w3*20)\n",
    "    d4= 1-torch.exp(-w4*20)\n",
    "    d5= 1-torch.exp(-hb*20)\n",
    "    d6= 1-torch.exp(-ht*20)\n",
    "    dt= 1-torch.exp(-t*20)\n",
    "\n",
    "\n",
    "    Hx = Bx*d2*d4*d5*d6*dt\n",
    "    Hy = By*d1*d3*d5*d6*dt\n",
    "    Hz = Bz *d1*d2*d3*d4*dt + 1*t\n",
    "\n",
    "    Ex = Dx*d1*d3\n",
    "    Ey = Dy*d2*d4\n",
    "    Ez = Dz*d5*d6\n",
    "\n",
    "\n",
    "    return Hx,Hy,Hz,Ex,Ey,Ez\n",
    "\n",
    "\n",
    "\n",
    "\n"
   ]
  },
  {
   "cell_type": "code",
   "execution_count": 7,
   "metadata": {
    "executionInfo": {
     "elapsed": 3,
     "status": "ok",
     "timestamp": 1708365041118,
     "user": {
      "displayName": "Michel Nohra",
      "userId": "12798475948195788062"
     },
     "user_tz": 300
    },
    "id": "4zOjOvvG2Vv5"
   },
   "outputs": [],
   "source": [
    "L=[]"
   ]
  },
  {
   "cell_type": "markdown",
   "metadata": {},
   "source": [
    "This function creates N random points inside the computational domain"
   ]
  },
  {
   "cell_type": "code",
   "execution_count": 13,
   "metadata": {},
   "outputs": [],
   "source": [
    "def get_x(N):\n",
    "  X=np.random.uniform(0,1,(N,5))\n",
    "  X[:,4:5]= np.random.uniform(-0.6,0.6,(N,1))\n",
    "  X=torch.tensor(X).float()\n",
    "  return X"
   ]
  },
  {
   "cell_type": "code",
   "execution_count": 14,
   "metadata": {
    "executionInfo": {
     "elapsed": 3,
     "status": "ok",
     "timestamp": 1708365041118,
     "user": {
      "displayName": "Michel Nohra",
      "userId": "12798475948195788062"
     },
     "user_tz": 300
    },
    "id": "mvvKlkIm2aaz"
   },
   "outputs": [],
   "source": [
    "#this function plots the results Hz(x=0.5, y=0.5, z, mu=1.5) \n",
    "def plot_results():\n",
    "\n",
    "    Xt= get_x(5000,1).detach().to(device)\n",
    "    Xt[:,0]=0.5\n",
    "    Xt[:,1]=0.5\n",
    "    Xt[:,3]=1\n",
    "    rho=0.5 \n",
    "    Xt[:,4:5]=rho\n",
    "    \n",
    "    \n",
    "    Xt.requires_grad=True\n",
    "    \n",
    "    vx=0\n",
    "    vy=0 \n",
    "    vz=0\n",
    "\n",
    "\n",
    "    Hx,Hy,Hz,Dx,Dy,Dz = for_pass_F(Xt)\n",
    "\n",
    "    plt.plot(Xt[:,2].detach().cpu(),Hz.detach().cpu(),'*')\n",
    "\n",
    "\n",
    "    plt.pause(0.005)\n"
   ]
  },
  {
   "cell_type": "markdown",
   "metadata": {},
   "source": [
    "The function below introduce additional collocation points in critical parts of the domain. It creates a N random points in the computational domain, and keeps the n points with the highest residual. These 200 points are concatenated with the original collocation points."
   ]
  },
  {
   "cell_type": "code",
   "execution_count": 17,
   "metadata": {
    "executionInfo": {
     "elapsed": 6,
     "status": "ok",
     "timestamp": 1708365041753,
     "user": {
      "displayName": "Michel Nohra",
      "userId": "12798475948195788062"
     },
     "user_tz": 300
    },
    "id": "xHYlX05EvgWf"
   },
   "outputs": [],
   "source": [
    "def remesh(X0,N,n):\n",
    "  X=get_x(N)\n",
    "  X.requires_grad=True\n",
    "  X = X.to(device)\n",
    "  Rm=1\n",
    "\n",
    "  r=torch.sqrt((0.5-X[:,0:1])**2 + (0.5-X[:,1:2])**2 + (0.5-X[:,2:3])**2 )\n",
    "  mu=X[:,3:4]*torch.sigmoid(500*(r-0.2)) + 1\n",
    "\n",
    "  vx=0\n",
    "  vy=0\n",
    "  vz=0\n",
    "  Hx,Hy,Hz,Dx,Dy,Dz = for_pass_F(X)\n",
    "\n",
    "  tag=0\n",
    "  resx,resy,resz, res2x,res2y,res2z,div,divE = equa_F(Hx,Hy,Hz,Dx,Dy,Dz,X,1,mu,0,0,0,tag)\n",
    "  cH1,cH2,cH3,h1t,h2t,h3t,divH = T_curl(mu*Hx,mu*Hy,mu*Hz,X)\n",
    "\n",
    "  V= resx**2+resy**2+resz**2+ res2x**2+res2y**2+res2z**2+divH**2+divE**2\n",
    "\n",
    "\n",
    "  nmax=torch.topk(V.reshape(-1), n).indices\n",
    "  Xout=torch.concatenate((X0,X.detach()[nmax,:]) )\n",
    "  return Xout"
   ]
  },
  {
   "cell_type": "code",
   "execution_count": null,
   "metadata": {
    "executionInfo": {
     "elapsed": 6,
     "status": "ok",
     "timestamp": 1708365041754,
     "user": {
      "displayName": "Michel Nohra",
      "userId": "12798475948195788062"
     },
     "user_tz": 300
    },
    "id": "Feb4HXCndE-P"
   },
   "outputs": [],
   "source": []
  },
  {
   "cell_type": "code",
   "execution_count": 19,
   "metadata": {
    "executionInfo": {
     "elapsed": 401,
     "status": "ok",
     "timestamp": 1708365901991,
     "user": {
      "displayName": "Michel Nohra",
      "userId": "12798475948195788062"
     },
     "user_tz": 300
    },
    "id": "y78ummjGzAdo"
   },
   "outputs": [],
   "source": [
    "X= get_x(60000)#.to(device)\n",
    "X=X.to(device)\n",
    "X=remesh(X,200000,20000)\n"
   ]
  },
  {
   "cell_type": "code",
   "execution_count": null,
   "metadata": {
    "executionInfo": {
     "elapsed": 4,
     "status": "ok",
     "timestamp": 1708365902417,
     "user": {
      "displayName": "Michel Nohra",
      "userId": "12798475948195788062"
     },
     "user_tz": 300
    },
    "id": "SyuHPkTP8NYH"
   },
   "outputs": [],
   "source": [
    "X.shape"
   ]
  },
  {
   "cell_type": "code",
   "execution_count": 160,
   "metadata": {
    "executionInfo": {
     "elapsed": 5,
     "status": "ok",
     "timestamp": 1708365903341,
     "user": {
      "displayName": "Michel Nohra",
      "userId": "12798475948195788062"
     },
     "user_tz": 300
    },
    "id": "g8kLA15mys3r"
   },
   "outputs": [],
   "source": [
    "\n",
    "X.requires_grad=True\n",
    "X = X.to(device)"
   ]
  },
  {
   "cell_type": "code",
   "execution_count": 21,
   "metadata": {
    "executionInfo": {
     "elapsed": 4,
     "status": "ok",
     "timestamp": 1708365903341,
     "user": {
      "displayName": "Michel Nohra",
      "userId": "12798475948195788062"
     },
     "user_tz": 300
    },
    "id": "Gcswoir10bDK"
   },
   "outputs": [],
   "source": [
    "def closure():\n",
    "\n",
    "#calculating mu\n",
    "  r=torch.sqrt((0.5-X[:,0:1])**2 + (0.5-X[:,1:2])**2 + (0.5-X[:,2:3])**2 )\n",
    "  a=500\n",
    "  mu=X[:,4:5]*torch.sigmoid(a*(r-0.2)) + 1\n",
    "    \n",
    "#calculating the electromagnetic field\n",
    "  Hx,Hy,Hz,Dx,Dy,Dz = for_pass_F(X)\n",
    "\n",
    "#calculating the residual\n",
    "  tag=0\n",
    "  resx,resy,resz, res2x,res2y,res2z,div,divE = equa_F(Hx,Hy,Hz,Dx,Dy,Dz,X,1,mu,0,0,0,tag)\n",
    "  cH1,cH2,cH3, Hx_t,Hy_t,Hz_t ,divH = T_curl(mu*Hx,mu*Hy,mu*Hz,X)\n",
    "\n",
    "#the loss function\n",
    "  loss1=1*criterion(resx*T,resx*0) + 1*criterion(resy*T,resy*0) + 1*criterion(resz*T,resz*0) + 1*criterion(divH*T,divH*0)\n",
    "  loss2=1*criterion(res2x*T,res2x*0) + 1*criterion(res2y*T,res2y*0) + 1*criterion(res2z*T,res2z*0) + 1*criterion(divE*T,divE*0)\n",
    "  loss=1*loss1 + 1*loss2\n",
    "  optimizer.zero_grad()\n",
    "\n",
    "  L.append(loss.detach().cpu().numpy())\n",
    "\n",
    "  loss.backward()\n",
    "  return loss\n"
   ]
  },
  {
   "cell_type": "code",
   "execution_count": null,
   "metadata": {},
   "outputs": [],
   "source": []
  },
  {
   "cell_type": "code",
   "execution_count": 163,
   "metadata": {
    "colab": {
     "base_uri": "https://localhost:8080/",
     "height": 1000
    },
    "executionInfo": {
     "elapsed": 721642,
     "status": "error",
     "timestamp": 1708366691196,
     "user": {
      "displayName": "Michel Nohra",
      "userId": "12798475948195788062"
     },
     "user_tz": 300
    },
    "id": "lxn1GuZa0bF3",
    "outputId": "caa08b8f-5ab6-453e-a654-543e20910b02"
   },
   "outputs": [
    {
     "data": {
      "image/png": "[encoded data removed]",
      "text/plain": [
       "<Figure size 640x480 with 1 Axes>"
      ]
     },
     "metadata": {},
     "output_type": "display_data"
    },
    {
     "name": "stdout",
     "output_type": "stream",
     "text": [
      "tensor(0.0050, device='cuda:0', grad_fn=<MulBackward0>)\n",
      "tensor(0.0046, device='cuda:0', grad_fn=<MulBackward0>)\n",
      "tensor(0.0043, device='cuda:0', grad_fn=<MulBackward0>)\n",
      "tensor(0.0041, device='cuda:0', grad_fn=<MulBackward0>)\n",
      "tensor(0.0039, device='cuda:0', grad_fn=<MulBackward0>)\n",
      "tensor(0.0037, device='cuda:0', grad_fn=<MulBackward0>)\n",
      "tensor(0.0035, device='cuda:0', grad_fn=<MulBackward0>)\n",
      "tensor(0.0033, device='cuda:0', grad_fn=<MulBackward0>)\n",
      "tensor(0.0031, device='cuda:0', grad_fn=<MulBackward0>)\n",
      "tensor(0.0029, device='cuda:0', grad_fn=<MulBackward0>)\n"
     ]
    },
    {
     "data": {
      "image/png": "[encoded data removed]",
      "text/plain": [
       "<Figure size 640x480 with 1 Axes>"
      ]
     },
     "metadata": {},
     "output_type": "display_data"
    },
    {
     "name": "stdout",
     "output_type": "stream",
     "text": [
      "tensor(0.0028, device='cuda:0', grad_fn=<MulBackward0>)\n",
      "tensor(0.0027, device='cuda:0', grad_fn=<MulBackward0>)\n",
      "tensor(0.0025, device='cuda:0', grad_fn=<MulBackward0>)\n",
      "tensor(0.0024, device='cuda:0', grad_fn=<MulBackward0>)\n",
      "tensor(0.0023, device='cuda:0', grad_fn=<MulBackward0>)\n",
      "tensor(0.0022, device='cuda:0', grad_fn=<MulBackward0>)\n",
      "tensor(0.0021, device='cuda:0', grad_fn=<MulBackward0>)\n",
      "tensor(0.0021, device='cuda:0', grad_fn=<MulBackward0>)\n",
      "tensor(0.0020, device='cuda:0', grad_fn=<MulBackward0>)\n",
      "tensor(0.0019, device='cuda:0', grad_fn=<MulBackward0>)\n"
     ]
    },
    {
     "data": {
      "image/png": "[encoded data removed]",
      "text/plain": [
       "<Figure size 640x480 with 1 Axes>"
      ]
     },
     "metadata": {},
     "output_type": "display_data"
    },
    {
     "name": "stdout",
     "output_type": "stream",
     "text": [
      "tensor(0.0019, device='cuda:0', grad_fn=<MulBackward0>)\n",
      "tensor(0.0018, device='cuda:0', grad_fn=<MulBackward0>)\n",
      "tensor(0.0018, device='cuda:0', grad_fn=<MulBackward0>)\n",
      "tensor(0.0017, device='cuda:0', grad_fn=<MulBackward0>)\n",
      "tensor(0.0017, device='cuda:0', grad_fn=<MulBackward0>)\n",
      "tensor(0.0016, device='cuda:0', grad_fn=<MulBackward0>)\n",
      "tensor(0.0016, device='cuda:0', grad_fn=<MulBackward0>)\n",
      "tensor(0.0016, device='cuda:0', grad_fn=<MulBackward0>)\n",
      "tensor(0.0015, device='cuda:0', grad_fn=<MulBackward0>)\n",
      "tensor(0.0015, device='cuda:0', grad_fn=<MulBackward0>)\n"
     ]
    },
    {
     "data": {
      "image/png": "[encoded data removed]",
      "text/plain": [
       "<Figure size 640x480 with 1 Axes>"
      ]
     },
     "metadata": {},
     "output_type": "display_data"
    },
    {
     "name": "stdout",
     "output_type": "stream",
     "text": [
      "tensor(0.0015, device='cuda:0', grad_fn=<MulBackward0>)\n"
     ]
    },
    {
     "ename": "KeyboardInterrupt",
     "evalue": "",
     "output_type": "error",
     "traceback": [
      "\u001b[0;31m---------------------------------------------------------------------------\u001b[0m",
      "\u001b[0;31mKeyboardInterrupt\u001b[0m                         Traceback (most recent call last)",
      "\u001b[0;32m<ipython-input-163-a79191da5289>\u001b[0m in \u001b[0;36m<cell line: 7>\u001b[0;34m()\u001b[0m\n\u001b[1;32m      6\u001b[0m \u001b[0moptimizer2\u001b[0m \u001b[0;34m=\u001b[0m \u001b[0moptim\u001b[0m\u001b[0;34m.\u001b[0m\u001b[0mLBFGS\u001b[0m\u001b[0;34m(\u001b[0m\u001b[0mnetF\u001b[0m\u001b[0;34m.\u001b[0m\u001b[0mparameters\u001b[0m\u001b[0;34m(\u001b[0m\u001b[0;34m)\u001b[0m\u001b[0;34m,\u001b[0m \u001b[0mlr\u001b[0m\u001b[0;34m=\u001b[0m\u001b[0mlearning_rate2\u001b[0m\u001b[0;34m)\u001b[0m\u001b[0;34m\u001b[0m\u001b[0;34m\u001b[0m\u001b[0m\n\u001b[1;32m      7\u001b[0m \u001b[0;32mfor\u001b[0m \u001b[0mi\u001b[0m \u001b[0;32min\u001b[0m \u001b[0mrange\u001b[0m\u001b[0;34m(\u001b[0m\u001b[0;36m30000\u001b[0m\u001b[0;34m)\u001b[0m\u001b[0;34m:\u001b[0m\u001b[0;34m\u001b[0m\u001b[0;34m\u001b[0m\u001b[0m\n\u001b[0;32m----> 8\u001b[0;31m   \u001b[0mloss\u001b[0m\u001b[0;34m=\u001b[0m\u001b[0moptimizer2\u001b[0m\u001b[0;34m.\u001b[0m\u001b[0mstep\u001b[0m\u001b[0;34m(\u001b[0m\u001b[0mclosure\u001b[0m\u001b[0;34m)\u001b[0m\u001b[0;34m\u001b[0m\u001b[0;34m\u001b[0m\u001b[0m\n\u001b[0m\u001b[1;32m      9\u001b[0m   \u001b[0mL\u001b[0m\u001b[0;34m.\u001b[0m\u001b[0mappend\u001b[0m\u001b[0;34m(\u001b[0m\u001b[0mloss\u001b[0m\u001b[0;34m.\u001b[0m\u001b[0mdetach\u001b[0m\u001b[0;34m(\u001b[0m\u001b[0;34m)\u001b[0m\u001b[0;34m.\u001b[0m\u001b[0mcpu\u001b[0m\u001b[0;34m(\u001b[0m\u001b[0;34m)\u001b[0m\u001b[0;34m.\u001b[0m\u001b[0mnumpy\u001b[0m\u001b[0;34m(\u001b[0m\u001b[0;34m)\u001b[0m\u001b[0;34m)\u001b[0m\u001b[0;34m\u001b[0m\u001b[0;34m\u001b[0m\u001b[0m\n\u001b[1;32m     10\u001b[0m   \u001b[0;32mif\u001b[0m \u001b[0;34m(\u001b[0m\u001b[0mi\u001b[0m\u001b[0;34m%\u001b[0m\u001b[0;36m100\u001b[0m \u001b[0;34m==\u001b[0m\u001b[0;36m0\u001b[0m\u001b[0;34m)\u001b[0m\u001b[0;34m:\u001b[0m\u001b[0;34m\u001b[0m\u001b[0;34m\u001b[0m\u001b[0m\n",
      "\u001b[0;32m/usr/local/lib/python3.10/dist-packages/torch/optim/optimizer.py\u001b[0m in \u001b[0;36mwrapper\u001b[0;34m(*args, **kwargs)\u001b[0m\n\u001b[1;32m    371\u001b[0m                             )\n\u001b[1;32m    372\u001b[0m \u001b[0;34m\u001b[0m\u001b[0m\n\u001b[0;32m--> 373\u001b[0;31m                 \u001b[0mout\u001b[0m \u001b[0;34m=\u001b[0m \u001b[0mfunc\u001b[0m\u001b[0;34m(\u001b[0m\u001b[0;34m*\u001b[0m\u001b[0margs\u001b[0m\u001b[0;34m,\u001b[0m \u001b[0;34m**\u001b[0m\u001b[0mkwargs\u001b[0m\u001b[0;34m)\u001b[0m\u001b[0;34m\u001b[0m\u001b[0;34m\u001b[0m\u001b[0m\n\u001b[0m\u001b[1;32m    374\u001b[0m                 \u001b[0mself\u001b[0m\u001b[0;34m.\u001b[0m\u001b[0m_optimizer_step_code\u001b[0m\u001b[0;34m(\u001b[0m\u001b[0;34m)\u001b[0m\u001b[0;34m\u001b[0m\u001b[0;34m\u001b[0m\u001b[0m\n\u001b[1;32m    375\u001b[0m \u001b[0;34m\u001b[0m\u001b[0m\n",
      "\u001b[0;32m/usr/local/lib/python3.10/dist-packages/torch/utils/_contextlib.py\u001b[0m in \u001b[0;36mdecorate_context\u001b[0;34m(*args, **kwargs)\u001b[0m\n\u001b[1;32m    113\u001b[0m     \u001b[0;32mdef\u001b[0m \u001b[0mdecorate_context\u001b[0m\u001b[0;34m(\u001b[0m\u001b[0;34m*\u001b[0m\u001b[0margs\u001b[0m\u001b[0;34m,\u001b[0m \u001b[0;34m**\u001b[0m\u001b[0mkwargs\u001b[0m\u001b[0;34m)\u001b[0m\u001b[0;34m:\u001b[0m\u001b[0;34m\u001b[0m\u001b[0;34m\u001b[0m\u001b[0m\n\u001b[1;32m    114\u001b[0m         \u001b[0;32mwith\u001b[0m \u001b[0mctx_factory\u001b[0m\u001b[0;34m(\u001b[0m\u001b[0;34m)\u001b[0m\u001b[0;34m:\u001b[0m\u001b[0;34m\u001b[0m\u001b[0;34m\u001b[0m\u001b[0m\n\u001b[0;32m--> 115\u001b[0;31m             \u001b[0;32mreturn\u001b[0m \u001b[0mfunc\u001b[0m\u001b[0;34m(\u001b[0m\u001b[0;34m*\u001b[0m\u001b[0margs\u001b[0m\u001b[0;34m,\u001b[0m \u001b[0;34m**\u001b[0m\u001b[0mkwargs\u001b[0m\u001b[0;34m)\u001b[0m\u001b[0;34m\u001b[0m\u001b[0;34m\u001b[0m\u001b[0m\n\u001b[0m\u001b[1;32m    116\u001b[0m \u001b[0;34m\u001b[0m\u001b[0m\n\u001b[1;32m    117\u001b[0m     \u001b[0;32mreturn\u001b[0m \u001b[0mdecorate_context\u001b[0m\u001b[0;34m\u001b[0m\u001b[0;34m\u001b[0m\u001b[0m\n",
      "\u001b[0;32m/usr/local/lib/python3.10/dist-packages/torch/optim/lbfgs.py\u001b[0m in \u001b[0;36mstep\u001b[0;34m(self, closure)\u001b[0m\n\u001b[1;32m    436\u001b[0m                     \u001b[0;31m# no use to re-evaluate that function here\u001b[0m\u001b[0;34m\u001b[0m\u001b[0;34m\u001b[0m\u001b[0m\n\u001b[1;32m    437\u001b[0m                     \u001b[0;32mwith\u001b[0m \u001b[0mtorch\u001b[0m\u001b[0;34m.\u001b[0m\u001b[0menable_grad\u001b[0m\u001b[0;34m(\u001b[0m\u001b[0;34m)\u001b[0m\u001b[0;34m:\u001b[0m\u001b[0;34m\u001b[0m\u001b[0;34m\u001b[0m\u001b[0m\n\u001b[0;32m--> 438\u001b[0;31m                         \u001b[0mloss\u001b[0m \u001b[0;34m=\u001b[0m \u001b[0mfloat\u001b[0m\u001b[0;34m(\u001b[0m\u001b[0mclosure\u001b[0m\u001b[0;34m(\u001b[0m\u001b[0;34m)\u001b[0m\u001b[0;34m)\u001b[0m\u001b[0;34m\u001b[0m\u001b[0;34m\u001b[0m\u001b[0m\n\u001b[0m\u001b[1;32m    439\u001b[0m                     \u001b[0mflat_grad\u001b[0m \u001b[0;34m=\u001b[0m \u001b[0mself\u001b[0m\u001b[0;34m.\u001b[0m\u001b[0m_gather_flat_grad\u001b[0m\u001b[0;34m(\u001b[0m\u001b[0;34m)\u001b[0m\u001b[0;34m\u001b[0m\u001b[0;34m\u001b[0m\u001b[0m\n\u001b[1;32m    440\u001b[0m                     \u001b[0mopt_cond\u001b[0m \u001b[0;34m=\u001b[0m \u001b[0mflat_grad\u001b[0m\u001b[0;34m.\u001b[0m\u001b[0mabs\u001b[0m\u001b[0;34m(\u001b[0m\u001b[0;34m)\u001b[0m\u001b[0;34m.\u001b[0m\u001b[0mmax\u001b[0m\u001b[0;34m(\u001b[0m\u001b[0;34m)\u001b[0m \u001b[0;34m<=\u001b[0m \u001b[0mtolerance_grad\u001b[0m\u001b[0;34m\u001b[0m\u001b[0;34m\u001b[0m\u001b[0m\n",
      "\u001b[0;32m/usr/local/lib/python3.10/dist-packages/torch/utils/_contextlib.py\u001b[0m in \u001b[0;36mdecorate_context\u001b[0;34m(*args, **kwargs)\u001b[0m\n\u001b[1;32m    113\u001b[0m     \u001b[0;32mdef\u001b[0m \u001b[0mdecorate_context\u001b[0m\u001b[0;34m(\u001b[0m\u001b[0;34m*\u001b[0m\u001b[0margs\u001b[0m\u001b[0;34m,\u001b[0m \u001b[0;34m**\u001b[0m\u001b[0mkwargs\u001b[0m\u001b[0;34m)\u001b[0m\u001b[0;34m:\u001b[0m\u001b[0;34m\u001b[0m\u001b[0;34m\u001b[0m\u001b[0m\n\u001b[1;32m    114\u001b[0m         \u001b[0;32mwith\u001b[0m \u001b[0mctx_factory\u001b[0m\u001b[0;34m(\u001b[0m\u001b[0;34m)\u001b[0m\u001b[0;34m:\u001b[0m\u001b[0;34m\u001b[0m\u001b[0;34m\u001b[0m\u001b[0m\n\u001b[0;32m--> 115\u001b[0;31m             \u001b[0;32mreturn\u001b[0m \u001b[0mfunc\u001b[0m\u001b[0;34m(\u001b[0m\u001b[0;34m*\u001b[0m\u001b[0margs\u001b[0m\u001b[0;34m,\u001b[0m \u001b[0;34m**\u001b[0m\u001b[0mkwargs\u001b[0m\u001b[0;34m)\u001b[0m\u001b[0;34m\u001b[0m\u001b[0;34m\u001b[0m\u001b[0m\n\u001b[0m\u001b[1;32m    116\u001b[0m \u001b[0;34m\u001b[0m\u001b[0m\n\u001b[1;32m    117\u001b[0m     \u001b[0;32mreturn\u001b[0m \u001b[0mdecorate_context\u001b[0m\u001b[0;34m\u001b[0m\u001b[0;34m\u001b[0m\u001b[0m\n",
      "\u001b[0;32m<ipython-input-161-92d49d8559c0>\u001b[0m in \u001b[0;36mclosure\u001b[0;34m()\u001b[0m\n\u001b[1;32m     26\u001b[0m   \u001b[0;31m#L.append(loss.detach().cpu().numpy())\u001b[0m\u001b[0;34m\u001b[0m\u001b[0;34m\u001b[0m\u001b[0m\n\u001b[1;32m     27\u001b[0m \u001b[0;34m\u001b[0m\u001b[0m\n\u001b[0;32m---> 28\u001b[0;31m   \u001b[0mloss\u001b[0m\u001b[0;34m.\u001b[0m\u001b[0mbackward\u001b[0m\u001b[0;34m(\u001b[0m\u001b[0;34m)\u001b[0m\u001b[0;34m\u001b[0m\u001b[0;34m\u001b[0m\u001b[0m\n\u001b[0m\u001b[1;32m     29\u001b[0m   \u001b[0;32mreturn\u001b[0m \u001b[0mloss\u001b[0m\u001b[0;34m\u001b[0m\u001b[0;34m\u001b[0m\u001b[0m\n",
      "\u001b[0;32m/usr/local/lib/python3.10/dist-packages/torch/_tensor.py\u001b[0m in \u001b[0;36mbackward\u001b[0;34m(self, gradient, retain_graph, create_graph, inputs)\u001b[0m\n\u001b[1;32m    490\u001b[0m                 \u001b[0minputs\u001b[0m\u001b[0;34m=\u001b[0m\u001b[0minputs\u001b[0m\u001b[0;34m,\u001b[0m\u001b[0;34m\u001b[0m\u001b[0;34m\u001b[0m\u001b[0m\n\u001b[1;32m    491\u001b[0m             )\n\u001b[0;32m--> 492\u001b[0;31m         torch.autograd.backward(\n\u001b[0m\u001b[1;32m    493\u001b[0m             \u001b[0mself\u001b[0m\u001b[0;34m,\u001b[0m \u001b[0mgradient\u001b[0m\u001b[0;34m,\u001b[0m \u001b[0mretain_graph\u001b[0m\u001b[0;34m,\u001b[0m \u001b[0mcreate_graph\u001b[0m\u001b[0;34m,\u001b[0m \u001b[0minputs\u001b[0m\u001b[0;34m=\u001b[0m\u001b[0minputs\u001b[0m\u001b[0;34m\u001b[0m\u001b[0;34m\u001b[0m\u001b[0m\n\u001b[1;32m    494\u001b[0m         )\n",
      "\u001b[0;32m/usr/local/lib/python3.10/dist-packages/torch/autograd/__init__.py\u001b[0m in \u001b[0;36mbackward\u001b[0;34m(tensors, grad_tensors, retain_graph, create_graph, grad_variables, inputs)\u001b[0m\n\u001b[1;32m    249\u001b[0m     \u001b[0;31m# some Python versions print out the first line of a multi-line function\u001b[0m\u001b[0;34m\u001b[0m\u001b[0;34m\u001b[0m\u001b[0m\n\u001b[1;32m    250\u001b[0m     \u001b[0;31m# calls in the traceback and some print out the last line\u001b[0m\u001b[0;34m\u001b[0m\u001b[0;34m\u001b[0m\u001b[0m\n\u001b[0;32m--> 251\u001b[0;31m     Variable._execution_engine.run_backward(  # Calls into the C++ engine to run the backward pass\n\u001b[0m\u001b[1;32m    252\u001b[0m         \u001b[0mtensors\u001b[0m\u001b[0;34m,\u001b[0m\u001b[0;34m\u001b[0m\u001b[0;34m\u001b[0m\u001b[0m\n\u001b[1;32m    253\u001b[0m         \u001b[0mgrad_tensors_\u001b[0m\u001b[0;34m,\u001b[0m\u001b[0;34m\u001b[0m\u001b[0;34m\u001b[0m\u001b[0m\n",
      "\u001b[0;31mKeyboardInterrupt\u001b[0m: "
     ]
    }
   ],
   "source": [
    "learning_rate=1*1*10**-4\n",
    "learning_rate2=1\n",
    "criterion = nn.MSELoss()\n",
    "optimizer = optim.Adam(netF.parameters(), lr=learning_rate)#, weight_decay=0.01)\n",
    "optimizer2 = optim.LBFGS(netF.parameters(), lr=learning_rate2)\n",
    "\n",
    "T=1\n",
    "#training with 5000 adams iterations and 4000 L-BFGS iterations \n",
    "for i in range(5000):\n",
    "  loss=optimizer.step(closure)\n",
    "  L.append(loss.detach().cpu().numpy())\n",
    "  if (i%100 ==0):\n",
    "    plot_results()\n",
    "  if (i%10==0):\n",
    "      print(loss*1)\n",
    "\n",
    "for i in range(200):\n",
    "  loss=optimizer2.step(closure)\n",
    "  L.append(loss.detach().cpu().numpy())\n",
    "  if (i%100 ==0):\n",
    "    plot_results()\n",
    "  if (i%10==0):\n",
    "      print(loss*1)\n"
   ]
  },
  {
   "cell_type": "code",
   "execution_count": null,
   "metadata": {
    "id": "D6A48CeG0bJW"
   },
   "outputs": [],
   "source": []
  },
  {
   "cell_type": "code",
   "execution_count": null,
   "metadata": {
    "id": "bdEd3w4C0bLn"
   },
   "outputs": [],
   "source": []
  },
  {
   "cell_type": "markdown",
   "metadata": {
    "id": "hEzEDbCx0bNr"
   },
   "source": [
    "We vizualize the results for Hz(0.5,0.5,z,0.5), and $\\mu$ outside the sphere equal to $\\mu=1+x4$"
   ]
  },
  {
   "cell_type": "code",
   "execution_count": 165,
   "metadata": {
    "colab": {
     "base_uri": "https://localhost:8080/",
     "height": 430
    },
    "executionInfo": {
     "elapsed": 1763,
     "status": "ok",
     "timestamp": 1708366723655,
     "user": {
      "displayName": "Michel Nohra",
      "userId": "12798475948195788062"
     },
     "user_tz": 300
    },
    "id": "ZWYETXY9apNz",
    "outputId": "86ee2666-de93-448e-c365-c805f4efd18b"
   },
   "outputs": [
    {
     "data": {
      "image/png": "[encoded data removed]",
      "text/plain": [
       "<Figure size 640x480 with 1 Axes>"
      ]
     },
     "metadata": {},
     "output_type": "display_data"
    }
   ],
   "source": [
    "\n",
    "Xt= torch.zeros(10000,5).detach().to(device)\n",
    "Xt[:,0]=0.5 #x\n",
    "Xt[:,1]=0.5 #y\n",
    "Xt[:,2]=torch.linspace(0,1,10000) #z\n",
    "Xt[:,3]=0.5 #t\n",
    "x4=0.5\n",
    "Xt[:,4:5]=x4 # mu = 1 + x4\n",
    "\n",
    "\n",
    "Xt.requires_grad=True\n",
    "\n",
    "Hx,Hy,Hz,Dx,Dy,Dz = for_pass_F(Xt)\n",
    "\n",
    "\n",
    "plt.plot(Xt[:,2].detach().cpu(),Hz.detach().cpu())\n",
    "plt.grid()\n",
    "\n",
    "plt.pause(0.005)"
   ]
  },
  {
   "cell_type": "code",
   "execution_count": 87,
   "metadata": {
    "colab": {
     "base_uri": "https://localhost:8080/"
    },
    "executionInfo": {
     "elapsed": 8,
     "status": "ok",
     "timestamp": 1708364406723,
     "user": {
      "displayName": "Michel Nohra",
      "userId": "12798475948195788062"
     },
     "user_tz": 300
    },
    "id": "e6vRIZ6EObyg",
    "outputId": "0aea7aae-b014-421b-893f-43666c5ee118"
   },
   "outputs": [
    {
     "data": {
      "text/plain": [
       "tensor([0.6487], device='cuda:0', grad_fn=<UnbindBackward0>)"
      ]
     },
     "execution_count": 87,
     "metadata": {},
     "output_type": "execute_result"
    }
   ],
   "source": [
    "max(Hz)"
   ]
  },
  {
   "cell_type": "code",
   "execution_count": null,
   "metadata": {
    "id": "8L2lYGh4cbJg"
   },
   "outputs": [],
   "source": [
    "from google.colab import files\n"
   ]
  },
  {
   "cell_type": "code",
   "execution_count": null,
   "metadata": {
    "colab": {
     "base_uri": "https://localhost:8080/",
     "height": 17
    },
    "executionInfo": {
     "elapsed": 225,
     "status": "ok",
     "timestamp": 1708192670305,
     "user": {
      "displayName": "Michel Nohra",
      "userId": "12798475948195788062"
     },
     "user_tz": 300
    },
    "id": "ByIt30zhcbUm",
    "outputId": "679c5517-e796-4596-b714-cf56fde2bcb2"
   },
   "outputs": [
    {
     "data": {
      "application/javascript": [
       "\n",
       "    async function download(id, filename, size) {\n",
       "      if (!google.colab.kernel.accessAllowed) {\n",
       "        return;\n",
       "      }\n",
       "      const div = document.createElement('div');\n",
       "      const label = document.createElement('label');\n",
       "      label.textContent = `Downloading \"${filename}\": `;\n",
       "      div.appendChild(label);\n",
       "      const progress = document.createElement('progress');\n",
       "      progress.max = size;\n",
       "      div.appendChild(progress);\n",
       "      document.body.appendChild(div);\n",
       "\n",
       "      const buffers = [];\n",
       "      let downloaded = 0;\n",
       "\n",
       "      const channel = await google.colab.kernel.comms.open(id);\n",
       "      // Send a message to notify the kernel that we're ready.\n",
       "      channel.send({})\n",
       "\n",
       "      for await (const message of channel.messages) {\n",
       "        // Send a message to notify the kernel that we're ready.\n",
       "        channel.send({})\n",
       "        if (message.buffers) {\n",
       "          for (const buffer of message.buffers) {\n",
       "            buffers.push(buffer);\n",
       "            downloaded += buffer.byteLength;\n",
       "            progress.value = downloaded;\n",
       "          }\n",
       "        }\n",
       "      }\n",
       "      const blob = new Blob(buffers, {type: 'application/binary'});\n",
       "      const a = document.createElement('a');\n",
       "      a.href = window.URL.createObjectURL(blob);\n",
       "      a.download = filename;\n",
       "      div.appendChild(a);\n",
       "      a.click();\n",
       "      div.remove();\n",
       "    }\n",
       "  "
      ],
      "text/plain": [
       "<IPython.core.display.Javascript object>"
      ]
     },
     "metadata": {},
     "output_type": "display_data"
    },
    {
     "data": {
      "application/javascript": [
       "download(\"download_b2d6ed51-5c4d-4b0a-8924-73d08784eaaa\", \"pinn_mu(t=1,mu=05).csv\", 250000)"
      ],
      "text/plain": [
       "<IPython.core.display.Javascript object>"
      ]
     },
     "metadata": {},
     "output_type": "display_data"
    }
   ],
   "source": [
    "np.savetxt('pinn_mu(t=1,mu=05).csv', Hz.detach().cpu(), delimiter=',')\n",
    "files.download('pinn_mu(t=1,mu=05).csv')"
   ]
  },
  {
   "cell_type": "code",
   "execution_count": null,
   "metadata": {
    "id": "5G8Ep1NtcbZd"
   },
   "outputs": [],
   "source": []
  },
  {
   "cell_type": "code",
   "execution_count": null,
   "metadata": {
    "id": "7eMw-XrLcbb4"
   },
   "outputs": [],
   "source": []
  },
  {
   "cell_type": "code",
   "execution_count": null,
   "metadata": {
    "colab": {
     "base_uri": "https://localhost:8080/"
    },
    "executionInfo": {
     "elapsed": 204,
     "status": "ok",
     "timestamp": 1681318288362,
     "user": {
      "displayName": "Michel Nohra",
      "userId": "12798475948195788062"
     },
     "user_tz": 240
    },
    "id": "FvsvY0vYgNAR",
    "outputId": "182bffd6-e916-4847-bbd1-8598a2b22851"
   },
   "outputs": [
    {
     "data": {
      "text/plain": [
       "tensor([1.3039], device='cuda:0', grad_fn=<UnbindBackward0>)"
      ]
     },
     "execution_count": 82,
     "metadata": {},
     "output_type": "execute_result"
    }
   ],
   "source": [
    "max(Hz)"
   ]
  },
  {
   "cell_type": "code",
   "execution_count": null,
   "metadata": {
    "colab": {
     "base_uri": "https://localhost:8080/"
    },
    "executionInfo": {
     "elapsed": 1636,
     "status": "ok",
     "timestamp": 1681318307430,
     "user": {
      "displayName": "Michel Nohra",
      "userId": "12798475948195788062"
     },
     "user_tz": 240
    },
    "id": "goblpja3CcGF",
    "outputId": "8b2a2813-ca55-42e3-c6db-87cb69dabed1"
   },
   "outputs": [
    {
     "data": {
      "text/plain": [
       "tensor([1.1408], device='cuda:0', grad_fn=<MulBackward0>)"
      ]
     },
     "execution_count": 84,
     "metadata": {},
     "output_type": "execute_result"
    }
   ],
   "source": [
    "min(Hz)*1.5"
   ]
  },
  {
   "cell_type": "code",
   "execution_count": null,
   "metadata": {
    "id": "NRnWOsCZYUQC"
   },
   "outputs": [],
   "source": []
  }
 ],
 "metadata": {
  "accelerator": "GPU",
  "colab": {
   "authorship_tag": "ABX9TyP4BFRimj1b7HjvyXZASZz3",
   "provenance": [
    {
     "file_id": "1hEMn78u3VpWQop6EVTdkdaApy8EBThUs",
     "timestamp": 1704914079979
    }
   ]
  },
  "gpuClass": "standard",
  "kernelspec": {
   "display_name": "Python 3",
   "language": "python",
   "name": "python3"
  },
  "language_info": {
   "codemirror_mode": {
    "name": "ipython",
    "version": 3
   },
   "file_extension": ".py",
   "mimetype": "text/x-python",
   "name": "python",
   "nbconvert_exporter": "python",
   "pygments_lexer": "ipython3",
   "version": "3.8.5"
  }
 },
 "nbformat": 4,
 "nbformat_minor": 1
}
